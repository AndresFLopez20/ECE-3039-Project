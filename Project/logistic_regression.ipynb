{
  "nbformat": 4,
  "nbformat_minor": 0,
  "metadata": {
    "colab": {
      "provenance": []
    },
    "kernelspec": {
      "name": "python3",
      "display_name": "Python 3"
    },
    "language_info": {
      "name": "python"
    }
  },
  "cells": [
    {
      "cell_type": "code",
      "execution_count": 24,
      "metadata": {
        "colab": {
          "base_uri": "https://localhost:8080/"
        },
        "id": "Q1bnTqyv11Qi",
        "outputId": "896956dd-981f-471c-c302-174765ad97a8"
      },
      "outputs": [
        {
          "output_type": "stream",
          "name": "stdout",
          "text": [
            "Test Split Accuracy Score: 0.9797979797979798\n",
            "\n",
            "Test Split Confusion Matrix:\n",
            "[[ 5  2]\n",
            " [ 0 92]]\n",
            "\n",
            "\n",
            "k-Fold Accuracy Scores: [0.81818182 1.         0.81818182 0.90909091 0.81818182 0.90909091\n",
            " 0.90909091 0.90909091 1.         0.9        0.9        1.\n",
            " 1.         0.9        1.         0.9        1.         1.\n",
            " 0.6        0.9        1.         1.         0.9        1.\n",
            " 0.9        0.9        0.9        0.9        1.         1.        ]\n",
            "\n",
            "k-Fold Mean Accuracy: 0.923030303030303\n"
          ]
        }
      ],
      "source": [
        "import numpy as np\n",
        "import pandas as pd\n",
        "from sklearn.model_selection import train_test_split, cross_val_score\n",
        "from sklearn.linear_model import LogisticRegression\n",
        "from sklearn.metrics import accuracy_score, confusion_matrix\n",
        "from sklearn.preprocessing import LabelEncoder\n",
        "\n",
        "# Load the original dataset\n",
        "file_path = '/mnt/data/survey _lung_cancer.csv'  # Ensure the file path matches exactly\n",
        "data = pd.read_csv(file_path)\n",
        "\n",
        "# Convert 'YES'/'NO' in the 'LUNG_CANCER' column to 1/0\n",
        "data['LUNG_CANCER'] = data['LUNG_CANCER'].map({'YES': 1, 'NO': 0})\n",
        "\n",
        "# Encode the 'GENDER' column to numeric values\n",
        "label_encoder = LabelEncoder()\n",
        "data['GENDER'] = label_encoder.fit_transform(data['GENDER'])\n",
        "\n",
        "# Selecting independent variables (features) and the dependent variable (target)\n",
        "X = data.drop('LUNG_CANCER', axis=1)\n",
        "y = data['LUNG_CANCER']\n",
        "\n",
        "# Splitting the dataset into training and test sets\n",
        "X_train, X_test, y_train, y_test = train_test_split(X, y, test_size=0.32, random_state=42)\n",
        "\n",
        "# Training the logistic regression model\n",
        "logistic_model = LogisticRegression(max_iter=1000)\n",
        "logistic_model.fit(X_train, y_train)\n",
        "logistic_kfold_model = LogisticRegression(max_iter=1000)\n",
        "logistic_kfold_model.fit(X, y)\n",
        "\n",
        "# Predicting the target values for the test set\n",
        "y_pred = logistic_model.predict(X_test)\n",
        "\n",
        "# Evaluating the model\n",
        "accuracy = accuracy_score(y_test, y_pred)\n",
        "conf_matrix = confusion_matrix(y_test, y_pred)\n",
        "\n",
        "# k-fold Cross validation\n",
        "fold_scores = cross_val_score(logistic_kfold_model, X, y, cv = 30)\n",
        "\n",
        "print(f'Test Split Accuracy Score: {accuracy}')\n",
        "print('\\nTest Split Confusion Matrix:')\n",
        "print(conf_matrix)\n",
        "print(f'\\n\\nk-Fold Accuracy Scores: {fold_scores}')\n",
        "print(f'\\nk-Fold Mean Accuracy: {np.mean(fold_scores)}')\n"
      ]
    }
  ]
}